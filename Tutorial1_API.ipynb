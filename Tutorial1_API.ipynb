{
 "cells": [
  {
   "cell_type": "markdown",
   "metadata": {},
   "source": [
    "# Tutorial"
   ]
  },
  {
   "cell_type": "markdown",
   "metadata": {},
   "source": [
    "This notebook is split into two parts:\n",
    "-  Part 1: Making basis vectors\n",
    "-   Part 2: Projecting onto basis vectors\n"
   ]
  },
  {
   "cell_type": "markdown",
   "metadata": {},
   "source": [
    "Those who are only interested in using this package for octahedron environment could safely skip Part 1 and start from Part 2."
   ]
  },
  {
   "cell_type": "markdown",
   "metadata": {},
   "source": [
    "# Part 1: Making basis vectors"
   ]
  },
  {
   "cell_type": "markdown",
   "metadata": {},
   "source": [
    "Coordinates of the ideal structure must be set manually. Order and axes does not matter."
   ]
  },
  {
   "cell_type": "code",
   "execution_count": 1,
   "metadata": {},
   "outputs": [],
   "source": [
    "from basis_generator import * # change accordingly\n",
    "\n",
    "# constants\n",
    "ideal_coords = [\n",
    "    [-1,  0,  0],\n",
    "    [0, -1,  0],\n",
    "    [0,  0, -1],\n",
    "    [0,  0,  1],\n",
    "    [0,  1,  0],\n",
    "    [1,  0,  0]\n",
    "]"
   ]
  },
  {
   "cell_type": "markdown",
   "metadata": {},
   "source": [
    "Numerical algorithm (as introduced in the paper) is implemented to work for any symmetry environment.\n",
    "Some tuning may be required to minimise numerical errors.\n",
    "Irrep for translation and rotation must be set manually."
   ]
  },
  {
   "cell_type": "code",
   "execution_count": 2,
   "metadata": {},
   "outputs": [],
   "source": [
    "with open('basis_example_numerical.json', 'w') as f:\n",
    "    f.write(json.dumps(\n",
    "        basis_generating_machine_character(\n",
    "            ideal_coords, point_group='m-3m',\n",
    "            basis_sorter=lambda x: sort_basis_numerical(\n",
    "                dict_basis=x, translation_irrep='T1u', \n",
    "                rotation_irrep='T1g', ideal_coords=ideal_coords))\n",
    "    ) + '\\n')\n"
   ]
  },
  {
   "cell_type": "markdown",
   "metadata": {},
   "source": [
    "For octahedron, analytical solution is provided.\n",
    "For simpler point groups, one may prefer to implement analytically."
   ]
  },
  {
   "cell_type": "code",
   "execution_count": 3,
   "metadata": {},
   "outputs": [],
   "source": [
    "with open('basis_example_analytical.json', 'w') as f:\n",
    "    f.write(json.dumps(\n",
    "        basis_generating_machine_character(\n",
    "            ideal_coords, point_group='m-3m',\n",
    "            basis_sorter=sort_basis_analytical_octahderon)\n",
    "    ) + '\\n')\n"
   ]
  },
  {
   "cell_type": "markdown",
   "metadata": {},
   "source": [
    "We can see that the specific values of the basis set differ, as mentioned in the paper."
   ]
  },
  {
   "cell_type": "code",
   "execution_count": 4,
   "metadata": {},
   "outputs": [
    {
     "name": "stdout",
     "output_type": "stream",
     "text": [
      "Files basis_example_numerical.json and basis_example_analytical.json differ\n"
     ]
    }
   ],
   "source": [
    "!diff -q basis_example_numerical.json basis_example_analytical.json"
   ]
  },
  {
   "cell_type": "markdown",
   "metadata": {},
   "source": [
    "# Part 2: Projecting onto basis vectors"
   ]
  },
  {
   "cell_type": "markdown",
   "metadata": {},
   "source": [
    "This part is independent and does not require execution of Part 1."
   ]
  },
  {
   "cell_type": "code",
   "execution_count": 5,
   "metadata": {},
   "outputs": [],
   "source": [
    "## Prepare\n",
    "from polyhedron_analysis import * # change accordingly\n",
    "import pymatgen.core.structure\n",
    "\n",
    "# convert cif to pymatgen structure\n",
    "mp_struct = pymatgen.core.structure.Structure.from_file('example_structure/BaTiO3_mp-558125_computed.cif')\n",
    "centre_atom = 7"
   ]
  },
  {
   "cell_type": "markdown",
   "metadata": {},
   "source": [
    "## The structure"
   ]
  },
  {
   "cell_type": "markdown",
   "metadata": {},
   "source": [
    "We will look into the edge octahedron of the 1D TiO6 chain in hexagonal phase BaTiO3 (site 7)."
   ]
  },
  {
   "cell_type": "markdown",
   "metadata": {},
   "source": [
    "![BaTiO3](example_structure/BaTiO3.png)"
   ]
  },
  {
   "cell_type": "markdown",
   "metadata": {},
   "source": [
    "## simple usage"
   ]
  },
  {
   "cell_type": "code",
   "execution_count": 6,
   "metadata": {},
   "outputs": [
    {
     "name": "stdout",
     "output_type": "stream",
     "text": [
      "#Eg, T2g, T1u, T2u\n"
     ]
    },
    {
     "name": "stderr",
     "output_type": "stream",
     "text": [
      "/Users/kazuki/miniconda3/envs/main3.7.7/lib/python3.8/site-packages/pymatgen/analysis/local_env.py:4302: UserWarning: No oxidation states specified on sites! For better results, set the site oxidation states in the structure.\n",
      "  warnings.warn(\n",
      "/Users/kazuki/miniconda3/envs/main3.7.7/lib/python3.8/site-packages/pymatgen/analysis/local_env.py:4085: UserWarning: CrystalNN: cannot locate an appropriate radius, covalent or atomic radii will be used, this can lead to non-optimal results.\n",
      "  warnings.warn(\n"
     ]
    },
    {
     "name": "stdout",
     "output_type": "stream",
     "text": [
      "[0.01536587 0.06923456 0.11681853 0.01516811]\n"
     ]
    }
   ],
   "source": [
    "# main analysis\n",
    "print('#Eg, T2g, T1u, T2u')\n",
    "print(calc_distortions_from_struct_octahedron(mp_struct, centre_atom))"
   ]
  },
  {
   "cell_type": "markdown",
   "metadata": {},
   "source": [
    "## \"Pro\" usage"
   ]
  },
  {
   "cell_type": "markdown",
   "metadata": {},
   "source": [
    "In this part, we compare analytically and numerically calculated basis and show that the final result are the same."
   ]
  },
  {
   "cell_type": "code",
   "execution_count": 7,
   "metadata": {},
   "outputs": [],
   "source": [
    "# constants\n",
    "ideal_coords = [\n",
    "    [-1,  0,  0],\n",
    "    [0, -1,  0],\n",
    "    [0,  0, -1],\n",
    "    [0,  0,  1],\n",
    "    [0,  1,  0],\n",
    "    [1,  0,  0]\n",
    "]"
   ]
  },
  {
   "cell_type": "markdown",
   "metadata": {},
   "source": [
    "The detection of nearest neighbours relys on CrystalNN.\n",
    "We find that the result is not so sensitive for ABO3, but may require tuning for more subtle structures."
   ]
  },
  {
   "cell_type": "code",
   "execution_count": 8,
   "metadata": {},
   "outputs": [],
   "source": [
    "# common process\n",
    "\n",
    "## handle nearest neighbours\n",
    "mp_struct.get_neighbor_list(r=3.5)\n",
    "nearest_neighbour_finder = pymatgen.analysis.local_env.CrystalNN()\n",
    "temp_dict = sorted(\n",
    "    nearest_neighbour_finder.get_nn_info(\n",
    "        structure=mp_struct, n=centre_atom), key=lambda x: -x['weight']\n",
    ")[:len(ideal_coords)]"
   ]
  },
  {
   "cell_type": "markdown",
   "metadata": {},
   "source": [
    "## numerically calculated basis sets"
   ]
  },
  {
   "cell_type": "code",
   "execution_count": 9,
   "metadata": {},
   "outputs": [
    {
     "name": "stdout",
     "output_type": "stream",
     "text": [
      "#Eg, T2g, T1u, T2u\n",
      "[0.01536587 0.06923456 0.11681853 0.01516811]\n"
     ]
    }
   ],
   "source": [
    "# read json\n",
    "with open('basis/octahedron_basis.json', 'r') as f:\n",
    "    dict_basis = json.load(f)\n",
    "irrep_distortions = []\n",
    "for irrep in dict_basis.keys():\n",
    "    for elem in dict_basis[irrep]:\n",
    "        irrep_distortions.append(elem)\n",
    "\n",
    "# main routine\n",
    "distortion_amplitudes = calc_displacement(\n",
    "    struct=mp_struct,\n",
    "    centre_atom=centre_atom,\n",
    "    nearest_neighbour_indices=[d['site_index'] for d in temp_dict],\n",
    "    ave_bond=np.mean([mp_struct.get_distance(\n",
    "        centre_atom, d['site_index']) for d in temp_dict]),\n",
    "    images=[d['image'] for d in temp_dict],\n",
    "    ideal_coords=ideal_coords,\n",
    "    irrep_distortions=irrep_distortions\n",
    ")\n",
    "\n",
    "# average\n",
    "distortion_amplitudes = distortion_amplitudes * distortion_amplitudes\n",
    "temp_list = []\n",
    "count = 0\n",
    "for irrep in dict_basis:\n",
    "    dim = len(dict_basis[irrep])\n",
    "    temp_list.append(np.sum(distortion_amplitudes[count:count + dim]))\n",
    "    count += dim\n",
    "distortion_amplitudes = np.sqrt(temp_list)[3:]\n",
    "\n",
    "print('#Eg, T2g, T1u, T2u')\n",
    "print(distortion_amplitudes)"
   ]
  },
  {
   "cell_type": "markdown",
   "metadata": {},
   "source": [
    "## analytically calculated basis sets"
   ]
  },
  {
   "cell_type": "code",
   "execution_count": 10,
   "metadata": {},
   "outputs": [
    {
     "name": "stdout",
     "output_type": "stream",
     "text": [
      "#Eg, T2g, T1u, T2u\n",
      "[0.01536587 0.06923456 0.11681853 0.01516811]\n"
     ]
    }
   ],
   "source": [
    "# read json\n",
    "with open('basis/octahedron_basis_analytical.json', 'r') as f:\n",
    "    dict_basis = json.load(f)\n",
    "irrep_distortions = []\n",
    "for irrep in dict_basis.keys():\n",
    "    for elem in dict_basis[irrep]:\n",
    "        irrep_distortions.append(elem)\n",
    "\n",
    "# main routine\n",
    "distortion_amplitudes = calc_displacement(\n",
    "    struct=mp_struct,\n",
    "    centre_atom=centre_atom,\n",
    "    nearest_neighbour_indices=[d['site_index'] for d in temp_dict],\n",
    "    ave_bond=np.mean([mp_struct.get_distance(\n",
    "        centre_atom, d['site_index']) for d in temp_dict]),\n",
    "    images=[d['image'] for d in temp_dict],\n",
    "    ideal_coords=ideal_coords,\n",
    "    irrep_distortions=irrep_distortions\n",
    ")\n",
    "\n",
    "# average\n",
    "distortion_amplitudes = distortion_amplitudes * distortion_amplitudes\n",
    "temp_list = []\n",
    "count = 0\n",
    "for irrep in dict_basis:\n",
    "    dim = len(dict_basis[irrep])\n",
    "    temp_list.append(np.sum(distortion_amplitudes[count:count + dim]))\n",
    "    count += dim\n",
    "distortion_amplitudes = np.sqrt(temp_list)[3:]\n",
    "\n",
    "print('#Eg, T2g, T1u, T2u')\n",
    "print(distortion_amplitudes)"
   ]
  },
  {
   "cell_type": "markdown",
   "metadata": {},
   "source": [
    "Within the range of numerical error, the results should show\n",
    "```\n",
    "#Eg, T2g, T1u, T2u\n",
    "[0.01536587 0.06923456 0.11681853 0.01516811]\n",
    "```\n",
    "in both cases."
   ]
  },
  {
   "cell_type": "code",
   "execution_count": null,
   "metadata": {},
   "outputs": [],
   "source": []
  }
 ],
 "metadata": {
  "kernelspec": {
   "display_name": "Python 3",
   "language": "python",
   "name": "python3"
  },
  "language_info": {
   "codemirror_mode": {
    "name": "ipython",
    "version": 3
   },
   "file_extension": ".py",
   "mimetype": "text/x-python",
   "name": "python",
   "nbconvert_exporter": "python",
   "pygments_lexer": "ipython3",
   "version": "3.8.3"
  }
 },
 "nbformat": 4,
 "nbformat_minor": 5
}
