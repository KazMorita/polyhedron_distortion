{
 "cells": [
  {
   "cell_type": "markdown",
   "id": "cdf7ccca",
   "metadata": {},
   "source": [
    "# Tutorial"
   ]
  },
  {
   "cell_type": "markdown",
   "id": "f86640a6",
   "metadata": {},
   "source": [
    "This notebook is split into two parts:\n",
    "-  Part 1: Making basis vectors\n",
    "-   Part 2: Projecting onto basis vectors\n"
   ]
  },
  {
   "cell_type": "markdown",
   "id": "a6a2e0b1",
   "metadata": {},
   "source": [
    "Those who are only interested in using this package for octahedron environment could safely skip Part 1 and start from Part 2."
   ]
  },
  {
   "cell_type": "markdown",
   "id": "63233544",
   "metadata": {},
   "source": [
    "# Part 1: Making basis vectors"
   ]
  },
  {
   "cell_type": "markdown",
   "id": "4fc2d8b9",
   "metadata": {},
   "source": [
    "Coordinates of the ideal structure must be set manually. Order and axes does not matter."
   ]
  },
  {
   "cell_type": "code",
   "execution_count": 1,
   "id": "3ec5c16f",
   "metadata": {},
   "outputs": [],
   "source": [
    "from basis_generator import * # change accordingly\n",
    "\n",
    "# constants\n",
    "ideal_coords = [\n",
    "    [-1,  0,  0],\n",
    "    [0, -1,  0],\n",
    "    [0,  0, -1],\n",
    "    [0,  0,  1],\n",
    "    [0,  1,  0],\n",
    "    [1,  0,  0]\n",
    "]"
   ]
  },
  {
   "cell_type": "markdown",
   "id": "b362d804",
   "metadata": {},
   "source": [
    "Numerical algorithm (as introduced in the paper) is implemented to work for any symmetry environment.\n",
    "Some tuning may be required to minimise numerical errors.\n",
    "Irrep for translation and rotation must be set manually."
   ]
  },
  {
   "cell_type": "code",
   "execution_count": 2,
   "id": "1705f6dd",
   "metadata": {},
   "outputs": [],
   "source": [
    "with open('basis_example_numerical.json', 'w') as f:\n",
    "    f.write(json.dumps(\n",
    "        basis_generating_machine_character(\n",
    "            ideal_coords, point_group='m-3m',\n",
    "            basis_sorter=lambda x: sort_basis_numerical(\n",
    "                dict_basis=x, translation_irrep='T1u', \n",
    "                rotation_irrep='T1g', ideal_coords=ideal_coords))\n",
    "    ) + '\\n')\n"
   ]
  },
  {
   "cell_type": "markdown",
   "id": "d65b51dc",
   "metadata": {},
   "source": [
    "For octahedron, analytical solution is provided.\n",
    "For simpler point groups, one may prefer to implement analytically."
   ]
  },
  {
   "cell_type": "code",
   "execution_count": 3,
   "id": "10ecbe8b",
   "metadata": {},
   "outputs": [],
   "source": [
    "with open('basis_example_analytical.json', 'w') as f:\n",
    "    f.write(json.dumps(\n",
    "        basis_generating_machine_character(\n",
    "            ideal_coords, point_group='m-3m',\n",
    "            basis_sorter=sort_basis_analytical_octahderon)\n",
    "    ) + '\\n')\n"
   ]
  },
  {
   "cell_type": "markdown",
   "id": "6ee68348",
   "metadata": {},
   "source": [
    "We can see that the specific values of the basis set differ, as mentioned in the paper."
   ]
  },
  {
   "cell_type": "code",
   "execution_count": 4,
   "id": "9cc81ccc",
   "metadata": {},
   "outputs": [
    {
     "name": "stdout",
     "output_type": "stream",
     "text": [
      "Files basis_example_numerical.json and basis_example_analytical.json differ\n"
     ]
    }
   ],
   "source": [
    "!diff -q basis_example_numerical.json basis_example_analytical.json"
   ]
  },
  {
   "cell_type": "markdown",
   "id": "5fe250ec",
   "metadata": {},
   "source": [
    "# Part 2: Projecting onto basis vectors"
   ]
  },
  {
   "cell_type": "code",
   "execution_count": 5,
   "id": "d06ab853-5a80-46f2-97f6-1a548576a543",
   "metadata": {},
   "outputs": [],
   "source": [
    "# to disable CrystalNN warnings\n",
    "import warnings\n",
    "warnings.filterwarnings(\"ignore\")"
   ]
  },
  {
   "cell_type": "markdown",
   "id": "9f36cd1f",
   "metadata": {},
   "source": [
    "This part is independent and does not require execution of Part 1."
   ]
  },
  {
   "cell_type": "code",
   "execution_count": 6,
   "id": "428f1203",
   "metadata": {},
   "outputs": [],
   "source": [
    "## Prepare\n",
    "from polyhedron_analysis import * # change accordingly\n",
    "import pymatgen.core.structure\n",
    "\n",
    "# convert cif to pymatgen structure\n",
    "mp_struct = pymatgen.core.structure.Structure.from_file('example_structure/BaTiO3_mp-558125_computed.cif')\n",
    "centre_atom = 7"
   ]
  },
  {
   "cell_type": "markdown",
   "id": "e9c49cb1",
   "metadata": {},
   "source": [
    "## The structure"
   ]
  },
  {
   "cell_type": "markdown",
   "id": "63254232",
   "metadata": {},
   "source": [
    "We will look into the edge octahedron of the 1D TiO6 chain in hexagonal phase BaTiO3 (site 7)."
   ]
  },
  {
   "cell_type": "markdown",
   "id": "f1625635",
   "metadata": {},
   "source": [
    "![BaTiO3](example_structure/BaTiO3.png)"
   ]
  },
  {
   "cell_type": "markdown",
   "id": "e29cc4cd",
   "metadata": {},
   "source": [
    "## simple usage"
   ]
  },
  {
   "cell_type": "code",
   "execution_count": 7,
   "id": "0b524bd0",
   "metadata": {},
   "outputs": [
    {
     "name": "stdout",
     "output_type": "stream",
     "text": [
      "#Eg, T2g, T1u, T2u, T1u(centre)\n",
      "[0.01545027 0.06961483 0.11746016 0.01525142 0.11227169]\n"
     ]
    }
   ],
   "source": [
    "# main analysis\n",
    "print('#Eg, T2g, T1u, T2u, T1u(centre)')\n",
    "print(calc_distortions_from_struct_octahedron_withcentre(mp_struct, centre_atom))"
   ]
  },
  {
   "cell_type": "markdown",
   "id": "98696ad9",
   "metadata": {},
   "source": [
    "## \"Pro\" usage"
   ]
  },
  {
   "cell_type": "markdown",
   "id": "2dd5d226",
   "metadata": {},
   "source": [
    "In this part, we compare analytically and numerically calculated basis and show that the final result are the same."
   ]
  },
  {
   "cell_type": "code",
   "execution_count": 8,
   "id": "cc34cb48",
   "metadata": {},
   "outputs": [],
   "source": [
    "# constants\n",
    "ideal_coords = [\n",
    "    [-1,  0,  0],\n",
    "    [0, -1,  0],\n",
    "    [0,  0, -1],\n",
    "    [0,  0,  1],\n",
    "    [0,  1,  0],\n",
    "    [1,  0,  0]\n",
    "]"
   ]
  },
  {
   "cell_type": "markdown",
   "id": "f6571761",
   "metadata": {},
   "source": [
    "The detection of nearest neighbours relys on CrystalNN.\n",
    "We find that the result is not so sensitive for ABO3, but may require tuning for more subtle structures."
   ]
  },
  {
   "cell_type": "code",
   "execution_count": 9,
   "id": "f86c552d",
   "metadata": {},
   "outputs": [],
   "source": [
    "# common process\n",
    "\n",
    "## handle nearest neighbours\n",
    "mp_struct.get_neighbor_list(r=3.5)\n",
    "nearest_neighbour_finder = pymatgen.analysis.local_env.CrystalNN()\n",
    "temp_dict = sorted(\n",
    "    nearest_neighbour_finder.get_nn_info(\n",
    "        structure=mp_struct, n=centre_atom), key=lambda x: -x['weight']\n",
    ")[:len(ideal_coords)]"
   ]
  },
  {
   "cell_type": "markdown",
   "id": "5671f7f8",
   "metadata": {},
   "source": [
    "## numerically calculated basis sets"
   ]
  },
  {
   "cell_type": "code",
   "execution_count": 10,
   "id": "9be69e78",
   "metadata": {},
   "outputs": [
    {
     "name": "stdout",
     "output_type": "stream",
     "text": [
      "#Eg, T2g, T1u, T2u, T1u(centre)\n",
      "[0.01545027 0.06961483 0.11746016 0.01525142 0.11227169]\n"
     ]
    }
   ],
   "source": [
    "# read json\n",
    "with open('basis/octahedron_basis.json', 'r') as f:\n",
    "    dict_basis = json.load(f)\n",
    "irrep_distortions = []\n",
    "for irrep in dict_basis.keys():\n",
    "    for elem in dict_basis[irrep]:\n",
    "        irrep_distortions.append(elem)\n",
    "\n",
    "# define \"molecules\"\n",
    "temp_coords = np.array([\n",
    "    mp_struct[d['site_index']].coords\n",
    "    + mp_struct.lattice.get_cartesian_coords(d['image'])\n",
    "    for d in temp_dict\n",
    "])\n",
    "molecule_origin = np.mean(temp_coords, axis=0)\n",
    "ave_bond = temp_coords - molecule_origin\n",
    "ave_bond = np.mean(np.sqrt(np.sum(ave_bond * ave_bond, axis=1)))\n",
    "pymatgen_molecule = construct_molecule(\n",
    "    struct=mp_struct,\n",
    "    centre_atom=centre_atom,\n",
    "    nearest_neighbour_indices=[d['site_index'] for d in temp_dict],\n",
    "    ave_bond=ave_bond,\n",
    "    images=[d['image'] for d in temp_dict],\n",
    "    origin=molecule_origin,\n",
    ")\n",
    "pymatgen_molecule_ideal = construct_molecule_ideal(\n",
    "    ideal_coords, pymatgen_molecule.species)\n",
    "\n",
    "# transform\n",
    "(pymatgen_molecule, matrix_rotation, _) = match_molecules(\n",
    "    pymatgen_molecule, pymatgen_molecule_ideal)\n",
    "\n",
    "# project\n",
    "distortion_amplitudes = calc_displacement(\n",
    "    pymatgen_molecule, pymatgen_molecule_ideal, irrep_distortions\n",
    ")\n",
    "\n",
    "# calc projection for central atom\n",
    "centre_atom_amplitude = calc_displacement_centre(\n",
    "    mp_struct, centre_atom, molecule_origin, ave_bond, matrix_rotation)\n",
    "centre_atom_amplitude = np.sqrt(\n",
    "    np.sum(centre_atom_amplitude * centre_atom_amplitude))\n",
    "\n",
    "# average\n",
    "distortion_amplitudes = distortion_amplitudes * distortion_amplitudes\n",
    "temp_list = []\n",
    "count = 0\n",
    "for irrep in dict_basis:\n",
    "    dim = len(dict_basis[irrep])\n",
    "    temp_list.append(np.sum(distortion_amplitudes[count:count + dim]))\n",
    "    count += dim\n",
    "distortion_amplitudes = np.sqrt(temp_list)[3:]\n",
    "\n",
    "print('#Eg, T2g, T1u, T2u, T1u(centre)')\n",
    "print(np.concatenate((distortion_amplitudes, [centre_atom_amplitude])))"
   ]
  },
  {
   "cell_type": "markdown",
   "id": "0eaa4008",
   "metadata": {},
   "source": [
    "## analytically calculated basis sets"
   ]
  },
  {
   "cell_type": "code",
   "execution_count": 11,
   "id": "5f8811ee",
   "metadata": {},
   "outputs": [
    {
     "name": "stdout",
     "output_type": "stream",
     "text": [
      "#Eg, T2g, T1u, T2u, T1u(centre)\n",
      "[0.01545027 0.06961483 0.11746016 0.01525142 0.11227169]\n"
     ]
    }
   ],
   "source": [
    "# read json\n",
    "with open('basis/octahedron_basis_analytical.json', 'r') as f:\n",
    "    dict_basis = json.load(f)\n",
    "irrep_distortions = []\n",
    "for irrep in dict_basis.keys():\n",
    "    for elem in dict_basis[irrep]:\n",
    "        irrep_distortions.append(elem)\n",
    "\n",
    "# define \"molecules\"\n",
    "temp_coords = np.array([\n",
    "    mp_struct[d['site_index']].coords\n",
    "    + mp_struct.lattice.get_cartesian_coords(d['image'])\n",
    "    for d in temp_dict\n",
    "])\n",
    "molecule_origin = np.mean(temp_coords, axis=0)\n",
    "ave_bond = temp_coords - molecule_origin\n",
    "ave_bond = np.mean(np.sqrt(np.sum(ave_bond * ave_bond, axis=1)))\n",
    "pymatgen_molecule = construct_molecule(\n",
    "    struct=mp_struct,\n",
    "    centre_atom=centre_atom,\n",
    "    nearest_neighbour_indices=[d['site_index'] for d in temp_dict],\n",
    "    ave_bond=ave_bond,\n",
    "    images=[d['image'] for d in temp_dict],\n",
    "    origin=molecule_origin,\n",
    ")\n",
    "pymatgen_molecule_ideal = construct_molecule_ideal(\n",
    "    ideal_coords, pymatgen_molecule.species)\n",
    "\n",
    "# transform\n",
    "(pymatgen_molecule, matrix_rotation, _) = match_molecules(\n",
    "    pymatgen_molecule, pymatgen_molecule_ideal)\n",
    "\n",
    "# project\n",
    "distortion_amplitudes = calc_displacement(\n",
    "    pymatgen_molecule, pymatgen_molecule_ideal, irrep_distortions\n",
    ")\n",
    "\n",
    "# calc projection for central atom\n",
    "centre_atom_amplitude = calc_displacement_centre(\n",
    "    mp_struct, centre_atom, molecule_origin, ave_bond, matrix_rotation)\n",
    "centre_atom_amplitude = np.sqrt(\n",
    "    np.sum(centre_atom_amplitude * centre_atom_amplitude))\n",
    "\n",
    "# average\n",
    "distortion_amplitudes = distortion_amplitudes * distortion_amplitudes\n",
    "temp_list = []\n",
    "count = 0\n",
    "for irrep in dict_basis:\n",
    "    dim = len(dict_basis[irrep])\n",
    "    temp_list.append(np.sum(distortion_amplitudes[count:count + dim]))\n",
    "    count += dim\n",
    "distortion_amplitudes = np.sqrt(temp_list)[3:]\n",
    "\n",
    "print('#Eg, T2g, T1u, T2u, T1u(centre)')\n",
    "print(np.concatenate((distortion_amplitudes, [centre_atom_amplitude])))"
   ]
  },
  {
   "cell_type": "markdown",
   "id": "b5f6a09b",
   "metadata": {},
   "source": [
    "Within the range of numerical error, the results should show\n",
    "```\n",
    "#Eg, T2g, T1u, T2u, T1u(centre)\n",
    "[0.01545027 0.06961483 0.11746016 0.01525142 0.11227169]\n",
    "```\n",
    "in both cases."
   ]
  },
  {
   "cell_type": "code",
   "execution_count": null,
   "id": "5715a444",
   "metadata": {},
   "outputs": [],
   "source": []
  }
 ],
 "metadata": {
  "kernelspec": {
   "display_name": "Python 3 (ipykernel)",
   "language": "python",
   "name": "python3"
  },
  "language_info": {
   "codemirror_mode": {
    "name": "ipython",
    "version": 3
   },
   "file_extension": ".py",
   "mimetype": "text/x-python",
   "name": "python",
   "nbconvert_exporter": "python",
   "pygments_lexer": "ipython3",
   "version": "3.8.10"
  }
 },
 "nbformat": 4,
 "nbformat_minor": 5
}
